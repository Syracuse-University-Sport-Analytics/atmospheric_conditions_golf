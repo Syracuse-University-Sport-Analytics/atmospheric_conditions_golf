{
 "cells": [
  {
   "cell_type": "code",
   "execution_count": 2,
   "metadata": {},
   "outputs": [],
   "source": [
    "from bs4 import BeautifulSoup\n",
    "import pandas as pd\n",
    "import time\n",
    "import random\n",
    "import re\n",
    "import numpy as np\n",
    "from sklearn.utils.extmath import weighted_mode"
   ]
  },
  {
   "cell_type": "code",
   "execution_count": 3,
   "metadata": {},
   "outputs": [],
   "source": [
    "# bring in golf data\n",
    "\n",
    "pga_tour_data = pd.read_csv('tour_data_pga.csv')\n",
    "pga_tour_data['city_date'] =  pga_tour_data['course_city_code'] + pga_tour_data['round_date']"
   ]
  },
  {
   "cell_type": "code",
   "execution_count": 7,
   "metadata": {},
   "outputs": [],
   "source": [
    "# bring in weather data\n",
    "\n",
    "pga_weather = pd.read_csv('pga_weather.csv')\n",
    "pga_weather['city_date'] = pga_weather['City'] + pga_weather['Date']"
   ]
  },
  {
   "cell_type": "code",
   "execution_count": 8,
   "metadata": {},
   "outputs": [],
   "source": [
    "# get unique event-round tee times\n",
    "\n",
    "pga_tour_unique_event_tee_round = pga_tour_data[['city_date', 'teetimeinmin', 'event_name', 'par_avg_time']].drop_duplicates()"
   ]
  },
  {
   "cell_type": "code",
   "execution_count": null,
   "metadata": {},
   "outputs": [],
   "source": [
    "# weighted average function\n",
    "\n",
    "def weighted_average(dataframe, value, weight):\n",
    "    val = dataframe[value]\n",
    "    wt = dataframe[weight]\n",
    "    return (val * wt).sum() / wt.sum()"
   ]
  },
  {
   "cell_type": "code",
   "execution_count": 51,
   "metadata": {},
   "outputs": [],
   "source": [
    "# for loop to get weather per tee time for each round of an event\n",
    "\n",
    "round_weather = []\n",
    "\n",
    "for index, row in pga_tour_unique_event_tee_round.iterrows():    \n",
    "    try:\n",
    "        city_date = str(row['city_date'])\n",
    "        tee_time = int(row['teetimeinmin'])\n",
    "        event_name = str(row['event_name'])\n",
    "        par_avg_time = float(row['par_avg_time'])\n",
    "        weather_df = pga_weather[pga_weather['city_date'] == str(row['city_date'])].sort_values(by=['TimeinMin'])\n",
    "        weather_df = weather_df[weather_df['TimeinMin'] >= int(row['teetimeinmin'])] \n",
    "        weather_df = weather_df[weather_df['TimeinMin'] < (int(row['teetimeinmin']) + float(row['par_avg_time']))]\n",
    "        weather_df['row_num'] = np.arange(len(weather_df))\n",
    "        weather_df['before_mins'] = np.where(weather_df['row_num'] == 0, weather_df['TimeinMin'] - int(row['teetimeinmin']), \n",
    "                                            weather_df.TimeinMin.diff()/2)\n",
    "        weather_df['after_mins'] = np.where(weather_df['row_num'] == max(weather_df['row_num']), \n",
    "                                            (int(row['teetimeinmin']) + float(row['par_avg_time'])) - weather_df['TimeinMin'],\n",
    "                                           abs(weather_df.TimeinMin.diff(periods=-1)/2))\n",
    "        weather_df['total_mins'] = weather_df['before_mins'] + weather_df['after_mins']\n",
    "        avg_temp = weighted_average(weather_df, 'Temperature', 'total_mins')\n",
    "        avg_dew = weighted_average(weather_df, 'Dew Point', 'total_mins')\n",
    "        avg_wind_speed = weighted_average(weather_df, 'Wind Speed', 'total_mins')\n",
    "        avg_wind_gust = weighted_average(weather_df, 'Wind Gust', 'total_mins')\n",
    "        avg_pressure = weighted_average(weather_df, 'Pressure', 'total_mins')\n",
    "        avg_humidity = weighted_average(weather_df, 'Humidity', 'total_mins')\n",
    "        sum_precipitation = sum(weather_df['Precip.'])\n",
    "        mode_condition = weighted_mode(weather_df['Condition'], weather_df['total_mins'])[0][0]\n",
    "        mode_wind_direction = weighted_mode(weather_df['Wind'], weather_df['total_mins'])[0][0]\n",
    "        weather_round = pd.DataFrame([[city_date, tee_time, event_name, par_avg_time, avg_temp,avg_dew,\n",
    "                                       avg_wind_speed,avg_wind_gust,avg_pressure,avg_humidity,sum_precipitation,\n",
    "                                       mode_condition,mode_wind_direction]],\n",
    "                              columns = ['city_date', 'tee_time', 'event_name', 'par_avg_time',\n",
    "                                         'avg_temperature', 'avg_dew_point', 'avg_wind_speed',\n",
    "                                        'avg_wind_gust', 'avg_pressure', 'avg_humidity', 'sum_precipitation',\n",
    "                                        'mode_condition', 'mode_wind_direction'])\n",
    "        round_weather.append(weather_round)\n",
    "        \n",
    "    except (ValueError) as error:\n",
    "        print(str(row['city_date']))\n",
    "        continue\n",
    "    "
   ]
  },
  {
   "cell_type": "code",
   "execution_count": 54,
   "metadata": {},
   "outputs": [],
   "source": [
    "# writing final df with weather for each event-round tee time\n",
    "\n",
    "round_weather_df = pd.concat(round_weather)\n",
    "round_weather_df.to_csv('weather_measures_tee_times.csv')"
   ]
  }
 ],
 "metadata": {
  "kernelspec": {
   "display_name": "Python 3 (ipykernel)",
   "language": "python",
   "name": "python3"
  },
  "language_info": {
   "codemirror_mode": {
    "name": "ipython",
    "version": 3
   },
   "file_extension": ".py",
   "mimetype": "text/x-python",
   "name": "python",
   "nbconvert_exporter": "python",
   "pygments_lexer": "ipython3",
   "version": "3.11.5"
  }
 },
 "nbformat": 4,
 "nbformat_minor": 2
}
